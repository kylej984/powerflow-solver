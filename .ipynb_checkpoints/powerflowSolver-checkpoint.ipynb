{
 "cells": [
  {
   "cell_type": "markdown",
   "id": "601313e0-4cfb-48b0-a7f9-1e991079d369",
   "metadata": {},
   "source": [
    "Resources about numpy:\n",
    "https://numpy.org/doc/stable/user/quickstart.html"
   ]
  },
  {
   "cell_type": "markdown",
   "id": "1896cd45-2440-4d78-aebd-86c61873a4bf",
   "metadata": {},
   "source": [
    "Resources about pandas:\n",
    "https://pandas.pydata.org/docs/reference/frame.html\n"
   ]
  },
  {
   "cell_type": "code",
   "execution_count": 67,
   "id": "597cc389-872e-4a2f-b682-956189c4b152",
   "metadata": {},
   "outputs": [
    {
     "name": "stdout",
     "output_type": "stream",
     "text": [
      "Requirement already satisfied: numpy in c:\\users\\kyle9\\appdata\\local\\programs\\python\\python312\\lib\\site-packages (1.26.2)\n"
     ]
    },
    {
     "name": "stderr",
     "output_type": "stream",
     "text": [
      "\n",
      "[notice] A new release of pip is available: 23.2.1 -> 23.3.1\n",
      "[notice] To update, run: python.exe -m pip install --upgrade pip\n"
     ]
    }
   ],
   "source": [
    "!pip install numpy"
   ]
  },
  {
   "cell_type": "code",
   "execution_count": 68,
   "id": "c8a6f0a6-3f67-4e91-9f5b-3c91b07c96c4",
   "metadata": {
    "scrolled": true
   },
   "outputs": [
    {
     "name": "stdout",
     "output_type": "stream",
     "text": [
      "Requirement already satisfied: pandas in c:\\users\\kyle9\\appdata\\local\\programs\\python\\python312\\lib\\site-packages (2.1.3)\n",
      "Requirement already satisfied: numpy<2,>=1.26.0 in c:\\users\\kyle9\\appdata\\local\\programs\\python\\python312\\lib\\site-packages (from pandas) (1.26.2)\n",
      "Requirement already satisfied: python-dateutil>=2.8.2 in c:\\users\\kyle9\\appdata\\local\\programs\\python\\python312\\lib\\site-packages (from pandas) (2.8.2)\n",
      "Requirement already satisfied: pytz>=2020.1 in c:\\users\\kyle9\\appdata\\local\\programs\\python\\python312\\lib\\site-packages (from pandas) (2023.3.post1)\n",
      "Requirement already satisfied: tzdata>=2022.1 in c:\\users\\kyle9\\appdata\\local\\programs\\python\\python312\\lib\\site-packages (from pandas) (2023.3)\n",
      "Requirement already satisfied: six>=1.5 in c:\\users\\kyle9\\appdata\\local\\programs\\python\\python312\\lib\\site-packages (from python-dateutil>=2.8.2->pandas) (1.16.0)\n"
     ]
    },
    {
     "name": "stderr",
     "output_type": "stream",
     "text": [
      "\n",
      "[notice] A new release of pip is available: 23.2.1 -> 23.3.1\n",
      "[notice] To update, run: python.exe -m pip install --upgrade pip\n"
     ]
    }
   ],
   "source": [
    "!pip3 install pandas"
   ]
  },
  {
   "cell_type": "code",
   "execution_count": 69,
   "id": "62af864d-a3d2-471e-bca5-4b6d97ec1615",
   "metadata": {},
   "outputs": [
    {
     "name": "stdout",
     "output_type": "stream",
     "text": [
      "Requirement already satisfied: openpyxl in c:\\users\\kyle9\\appdata\\local\\programs\\python\\python312\\lib\\site-packages (3.1.2)\n",
      "Requirement already satisfied: et-xmlfile in c:\\users\\kyle9\\appdata\\local\\programs\\python\\python312\\lib\\site-packages (from openpyxl) (1.1.0)\n"
     ]
    },
    {
     "name": "stderr",
     "output_type": "stream",
     "text": [
      "\n",
      "[notice] A new release of pip is available: 23.2.1 -> 23.3.1\n",
      "[notice] To update, run: python.exe -m pip install --upgrade pip\n"
     ]
    }
   ],
   "source": [
    "!pip install openpyxl"
   ]
  },
  {
   "cell_type": "code",
   "execution_count": 70,
   "id": "4c325cfd-dbb0-4b1f-ad35-cc6b04f0a07d",
   "metadata": {},
   "outputs": [],
   "source": [
    "## Import numpy and pandas\n",
    "import numpy as np\n",
    "import pandas as pd"
   ]
  },
  {
   "cell_type": "code",
   "execution_count": 71,
   "id": "9cb70768-a81a-4b31-8a75-91a96a26d4c7",
   "metadata": {},
   "outputs": [],
   "source": [
    "## TODO: Create function of code below called system_reader which takes the file path of the system data as input\n",
    "## and returns the line and bus data."
   ]
  },
  {
   "cell_type": "code",
   "execution_count": 72,
   "id": "75c6ba88-6f7a-4584-b0e0-676ed69366d0",
   "metadata": {
    "scrolled": true
   },
   "outputs": [
    {
     "name": "stdout",
     "output_type": "stream",
     "text": [
      "    Bus #  P MW  Q MVAr Type  P Gen  V Set\n",
      "0       1   0.0     0.0    S      0  1.040\n",
      "1       2  20.1    12.5    D      0  1.000\n",
      "2       3  45.2    16.0    G     42  1.025\n",
      "3       4  60.8    10.9    D      0  1.000\n",
      "4       5   7.6    -1.6    D      0  1.000\n",
      "5       6  13.5     8.5    D      0  1.000\n",
      "6       7  33.5    11.6    D      0  1.000\n",
      "7       8   9.0     5.8    D      0  1.000\n",
      "8       9   4.3     2.1    G     23  1.020\n",
      "9      10   5.2     1.6    G     27  1.020\n",
      "10     11  13.5     5.8    D      0  1.000\n",
      "11     12  14.9     5.0    G     33  1.030\n",
      "    From  To  Rtotal, p.u.  Xtotal, p.u.  Btotal, p.u.  Fmax, MVA\n",
      "0      1   2       0.01938       0.05917        0.0528         95\n",
      "1      1   5       0.05203       0.20304        0.0492        100\n",
      "2      2   3       0.04699       0.19797        0.0438       9999\n",
      "3      2   4       0.05811       0.17632        0.0340       9999\n",
      "4      2   5       0.05695       0.07388        0.0346       9999\n",
      "5      3   4       0.67010       0.17103        0.0128       9999\n",
      "6      4   5       0.01335       0.04211        0.0391       9999\n",
      "7      4   7       0.00000       0.55618        0.0000       9999\n",
      "8      5   6       0.00000       0.25202        0.0000       9999\n",
      "9      6   9       0.09498       0.19890        0.0176       9999\n",
      "10     6  10       0.12291       0.25581        0.0267       9999\n",
      "11     6  11       0.06615       0.13027        0.0310       9999\n",
      "12     7   8       0.03181       0.08450        0.0410       9999\n",
      "13     7  12       0.12711       0.27038        0.0323       9999\n",
      "14     8   9       0.08205       0.19207        0.0260       9999\n",
      "15    10  11       0.22092       0.19988        0.0190       9999\n",
      "16    11  12       0.17093       0.34802        0.0360       9999\n"
     ]
    }
   ],
   "source": [
    "# Replace 'file.xlsx' with your actual file path\n",
    "file_path = 'system_basecase.xlsx'\n",
    "\n",
    "# Replace 'Sheet1' with the name of the sheet you want to read\n",
    "sheet_name1 = 'BusData'\n",
    "sheet_name2 = 'LineData'\n",
    "\n",
    "\n",
    "# Read the Excel file into a pandas DataFrame for the specified sheet\n",
    "bus_data = pd.read_excel(file_path, sheet_name=sheet_name1)\n",
    "line_data = pd.read_excel(file_path, sheet_name=sheet_name2)\n",
    "\n",
    "# Display the contents of the DataFrame\n",
    "print(bus_data)\n",
    "print(line_data)"
   ]
  },
  {
   "cell_type": "code",
   "execution_count": 73,
   "id": "dd7a06a9-d3c5-4612-b454-f540a2bac657",
   "metadata": {
    "scrolled": true
   },
   "outputs": [],
   "source": [
    "## TODO: Create function of the code below called admittance_matrix"
   ]
  },
  {
   "cell_type": "code",
   "execution_count": 74,
   "id": "77a45ac0-37dd-4faf-998b-ff792adb671d",
   "metadata": {
    "scrolled": true
   },
   "outputs": [
    {
     "name": "stdout",
     "output_type": "stream",
     "text": [
      "   From  To  Rtotal, p.u.  Xtotal, p.u.  Btotal, p.u.  Fmax, MVA\n",
      "0     1   2       0.01938       0.05917        0.0528         95\n",
      "1     1   5       0.05203       0.20304        0.0492        100\n",
      "   From  To  Rtotal, p.u.  Xtotal, p.u.  Btotal, p.u.  Fmax, MVA\n",
      "0     1   2       0.01938       0.05917        0.0528         95\n",
      "2     2   3       0.04699       0.19797        0.0438       9999\n",
      "3     2   4       0.05811       0.17632        0.0340       9999\n",
      "4     2   5       0.05695       0.07388        0.0346       9999\n",
      "   From  To  Rtotal, p.u.  Xtotal, p.u.  Btotal, p.u.  Fmax, MVA\n",
      "2     2   3       0.04699       0.19797        0.0438       9999\n",
      "5     3   4       0.67010       0.17103        0.0128       9999\n",
      "   From  To  Rtotal, p.u.  Xtotal, p.u.  Btotal, p.u.  Fmax, MVA\n",
      "3     2   4       0.05811       0.17632        0.0340       9999\n",
      "5     3   4       0.67010       0.17103        0.0128       9999\n",
      "6     4   5       0.01335       0.04211        0.0391       9999\n",
      "7     4   7       0.00000       0.55618        0.0000       9999\n",
      "   From  To  Rtotal, p.u.  Xtotal, p.u.  Btotal, p.u.  Fmax, MVA\n",
      "1     1   5       0.05203       0.20304        0.0492        100\n",
      "4     2   5       0.05695       0.07388        0.0346       9999\n",
      "6     4   5       0.01335       0.04211        0.0391       9999\n",
      "8     5   6       0.00000       0.25202        0.0000       9999\n",
      "    From  To  Rtotal, p.u.  Xtotal, p.u.  Btotal, p.u.  Fmax, MVA\n",
      "8      5   6       0.00000       0.25202        0.0000       9999\n",
      "9      6   9       0.09498       0.19890        0.0176       9999\n",
      "10     6  10       0.12291       0.25581        0.0267       9999\n",
      "11     6  11       0.06615       0.13027        0.0310       9999\n",
      "    From  To  Rtotal, p.u.  Xtotal, p.u.  Btotal, p.u.  Fmax, MVA\n",
      "7      4   7       0.00000       0.55618        0.0000       9999\n",
      "12     7   8       0.03181       0.08450        0.0410       9999\n",
      "13     7  12       0.12711       0.27038        0.0323       9999\n",
      "    From  To  Rtotal, p.u.  Xtotal, p.u.  Btotal, p.u.  Fmax, MVA\n",
      "12     7   8       0.03181       0.08450         0.041       9999\n",
      "14     8   9       0.08205       0.19207         0.026       9999\n",
      "    From  To  Rtotal, p.u.  Xtotal, p.u.  Btotal, p.u.  Fmax, MVA\n",
      "9      6   9       0.09498       0.19890        0.0176       9999\n",
      "14     8   9       0.08205       0.19207        0.0260       9999\n",
      "    From  To  Rtotal, p.u.  Xtotal, p.u.  Btotal, p.u.  Fmax, MVA\n",
      "10     6  10       0.12291       0.25581        0.0267       9999\n",
      "15    10  11       0.22092       0.19988        0.0190       9999\n",
      "    From  To  Rtotal, p.u.  Xtotal, p.u.  Btotal, p.u.  Fmax, MVA\n",
      "11     6  11       0.06615       0.13027         0.031       9999\n",
      "15    10  11       0.22092       0.19988         0.019       9999\n",
      "16    11  12       0.17093       0.34802         0.036       9999\n",
      "    From  To  Rtotal, p.u.  Xtotal, p.u.  Btotal, p.u.  Fmax, MVA\n",
      "13     7  12       0.12711       0.27038        0.0323       9999\n",
      "16    11  12       0.17093       0.34802        0.0360       9999\n"
     ]
    }
   ],
   "source": [
    "# Calculating admittance matrix\n",
    "num_buses = len(bus_data)\n",
    "Ybus = np.zeros((num_buses, num_buses), dtype=complex)\n",
    "\n",
    "# Test admitance matrix\n",
    "## print(Ybus)\n",
    "\n",
    "# Calculate total admittance of lines connected to each bus and store on the main diagonal\n",
    "for i in range(num_buses):\n",
    "    ## Debug code\n",
    "    ## print('iteration', i)\n",
    "    \n",
    "    ## Select all lines connected to the current bus in question.\n",
    "    bus_lines = line_data[(line_data['From'] == i + 1) | (line_data['To'] == i + 1)]\n",
    "    print(bus_lines)\n",
    "    ## Sum all line admittances.\n",
    "    total_admittance = sum(1 / (line['Rtotal, p.u.'] + 1j * line['Xtotal, p.u.']) for _, line in bus_lines.iterrows())\n",
    "    Ybus[i, i] = total_admittance\n",
    "\n",
    "## Test calculations\n",
    "## print(Ybus)\n",
    "\n",
    "# Calculate admittance between each pair of buses and fill the off-diagonal elements\n",
    "for _, line in line_data.iterrows():\n",
    "    from_bus = int(line['From']) - 1\n",
    "    to_bus = int(line['To']) - 1\n",
    "    \n",
    "    admittance = 1 / (line['Rtotal, p.u.'] + 1j * line['Xtotal, p.u.'])\n",
    "    \n",
    "    Ybus[from_bus, to_bus] = -admittance\n",
    "    Ybus[to_bus, from_bus] = -admittance  # Assuming symmetric matrix\n",
    "\n",
    "## print(\"Admittance Matrix (Ybus):\")\n",
    "## print(Ybus)"
   ]
  }
 ],
 "metadata": {
  "kernelspec": {
   "display_name": "Python 3 (ipykernel)",
   "language": "python",
   "name": "python3"
  },
  "language_info": {
   "codemirror_mode": {
    "name": "ipython",
    "version": 3
   },
   "file_extension": ".py",
   "mimetype": "text/x-python",
   "name": "python",
   "nbconvert_exporter": "python",
   "pygments_lexer": "ipython3",
   "version": "3.12.0"
  }
 },
 "nbformat": 4,
 "nbformat_minor": 5
}
