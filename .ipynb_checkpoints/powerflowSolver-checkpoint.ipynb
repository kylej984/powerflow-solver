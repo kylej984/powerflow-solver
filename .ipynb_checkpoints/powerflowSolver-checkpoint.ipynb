{
 "cells": [
  {
   "cell_type": "markdown",
   "id": "601313e0-4cfb-48b0-a7f9-1e991079d369",
   "metadata": {},
   "source": [
    "Resources about numpy:\n",
    "https://numpy.org/doc/stable/user/quickstart.html"
   ]
  },
  {
   "cell_type": "markdown",
   "id": "1896cd45-2440-4d78-aebd-86c61873a4bf",
   "metadata": {},
   "source": [
    "Resources about pandas:\n",
    "https://pandas.pydata.org/docs/reference/frame.html\n"
   ]
  },
  {
   "cell_type": "code",
   "execution_count": 1,
   "id": "597cc389-872e-4a2f-b682-956189c4b152",
   "metadata": {},
   "outputs": [
    {
     "name": "stdout",
     "output_type": "stream",
     "text": [
      "Requirement already satisfied: numpy in /Library/Frameworks/Python.framework/Versions/3.12/lib/python3.12/site-packages (1.26.2)\n"
     ]
    }
   ],
   "source": [
    "!pip install numpy"
   ]
  },
  {
   "cell_type": "code",
   "execution_count": 2,
   "id": "c8a6f0a6-3f67-4e91-9f5b-3c91b07c96c4",
   "metadata": {
    "scrolled": true
   },
   "outputs": [
    {
     "name": "stdout",
     "output_type": "stream",
     "text": [
      "Requirement already satisfied: pandas in /Library/Frameworks/Python.framework/Versions/3.12/lib/python3.12/site-packages (2.1.3)\n",
      "Requirement already satisfied: numpy<2,>=1.26.0 in /Library/Frameworks/Python.framework/Versions/3.12/lib/python3.12/site-packages (from pandas) (1.26.2)\n",
      "Requirement already satisfied: python-dateutil>=2.8.2 in /Library/Frameworks/Python.framework/Versions/3.12/lib/python3.12/site-packages (from pandas) (2.8.2)\n",
      "Requirement already satisfied: pytz>=2020.1 in /Library/Frameworks/Python.framework/Versions/3.12/lib/python3.12/site-packages (from pandas) (2023.3.post1)\n",
      "Requirement already satisfied: tzdata>=2022.1 in /Library/Frameworks/Python.framework/Versions/3.12/lib/python3.12/site-packages (from pandas) (2023.3)\n",
      "Requirement already satisfied: six>=1.5 in /Library/Frameworks/Python.framework/Versions/3.12/lib/python3.12/site-packages (from python-dateutil>=2.8.2->pandas) (1.16.0)\n"
     ]
    }
   ],
   "source": [
    "!pip3 install pandas"
   ]
  },
  {
   "cell_type": "code",
   "execution_count": 3,
   "id": "62af864d-a3d2-471e-bca5-4b6d97ec1615",
   "metadata": {},
   "outputs": [
    {
     "name": "stdout",
     "output_type": "stream",
     "text": [
      "Requirement already satisfied: openpyxl in /Library/Frameworks/Python.framework/Versions/3.12/lib/python3.12/site-packages (3.1.2)\n",
      "Requirement already satisfied: et-xmlfile in /Library/Frameworks/Python.framework/Versions/3.12/lib/python3.12/site-packages (from openpyxl) (1.1.0)\n"
     ]
    }
   ],
   "source": [
    "!pip install openpyxl"
   ]
  },
  {
   "cell_type": "code",
   "execution_count": 4,
   "id": "4c325cfd-dbb0-4b1f-ad35-cc6b04f0a07d",
   "metadata": {},
   "outputs": [],
   "source": [
    "# Import numpy and pandas\n",
    "import numpy as np\n",
    "import pandas as pd"
   ]
  },
  {
   "cell_type": "code",
   "execution_count": 5,
   "id": "9cb70768-a81a-4b31-8a75-91a96a26d4c7",
   "metadata": {},
   "outputs": [],
   "source": [
    "# TODO: Create function of code below called system_reader which takes the file path of the system data as input\n",
    "# and returns the line and bus data."
   ]
  },
  {
   "cell_type": "code",
   "execution_count": 6,
   "id": "75c6ba88-6f7a-4584-b0e0-676ed69366d0",
   "metadata": {
    "scrolled": true
   },
   "outputs": [
    {
     "name": "stdout",
     "output_type": "stream",
     "text": [
      "    Bus #  P MW  Q MVAr Type  P Gen  V Set\n",
      "0       1   0.0     0.0    S      0  1.040\n",
      "1       2  20.1    12.5    D      0  1.000\n",
      "2       3  45.2    16.0    G     42  1.025\n",
      "3       4  60.8    10.9    D      0  1.000\n",
      "4       5   7.6    -1.6    D      0  1.000\n",
      "5       6  13.5     8.5    D      0  1.000\n",
      "6       7  33.5    11.6    D      0  1.000\n",
      "7       8   9.0     5.8    D      0  1.000\n",
      "8       9   4.3     2.1    G     23  1.020\n",
      "9      10   5.2     1.6    G     27  1.020\n",
      "10     11  13.5     5.8    D      0  1.000\n",
      "11     12  14.9     5.0    G     33  1.030\n",
      "    From  To  Rtotal, p.u.  Xtotal, p.u.  Btotal, p.u.  Fmax, MVA\n",
      "0      1   2       0.01938       0.05917        0.0528         95\n",
      "1      1   5       0.05203       0.20304        0.0492        100\n",
      "2      2   3       0.04699       0.19797        0.0438       9999\n",
      "3      2   4       0.05811       0.17632        0.0340       9999\n",
      "4      2   5       0.05695       0.07388        0.0346       9999\n",
      "5      3   4       0.67010       0.17103        0.0128       9999\n",
      "6      4   5       0.01335       0.04211        0.0391       9999\n",
      "7      4   7       0.00000       0.55618        0.0000       9999\n",
      "8      5   6       0.00000       0.25202        0.0000       9999\n",
      "9      6   9       0.09498       0.19890        0.0176       9999\n",
      "10     6  10       0.12291       0.25581        0.0267       9999\n",
      "11     6  11       0.06615       0.13027        0.0310       9999\n",
      "12     7   8       0.03181       0.08450        0.0410       9999\n",
      "13     7  12       0.12711       0.27038        0.0323       9999\n",
      "14     8   9       0.08205       0.19207        0.0260       9999\n",
      "15    10  11       0.22092       0.19988        0.0190       9999\n",
      "16    11  12       0.17093       0.34802        0.0360       9999\n"
     ]
    }
   ],
   "source": [
    "# Replace 'file.xlsx' with your actual file path\n",
    "file_path = 'system_basecase.xlsx'\n",
    "\n",
    "# Replace 'Sheet1' with the name of the sheet you want to read\n",
    "sheet_name1 = 'BusData'\n",
    "sheet_name2 = 'LineData'\n",
    "\n",
    "\n",
    "# Read the Excel file into a pandas DataFrame for the specified sheet\n",
    "bus_data = pd.read_excel(file_path, sheet_name=sheet_name1)\n",
    "line_data = pd.read_excel(file_path, sheet_name=sheet_name2)\n",
    "\n",
    "# Display the contents of the DataFrame\n",
    "print(bus_data)\n",
    "print(line_data)"
   ]
  },
  {
   "cell_type": "code",
   "execution_count": 7,
   "id": "dd7a06a9-d3c5-4612-b454-f540a2bac657",
   "metadata": {
    "scrolled": true
   },
   "outputs": [],
   "source": [
    "# TODO: Create function of the code below called admittance_matrix"
   ]
  },
  {
   "cell_type": "code",
   "execution_count": 8,
   "id": "77a45ac0-37dd-4faf-998b-ff792adb671d",
   "metadata": {
    "scrolled": true
   },
   "outputs": [
    {
     "name": "stdout",
     "output_type": "stream",
     "text": [
      "   From  To  Rtotal, p.u.  Xtotal, p.u.  Btotal, p.u.  Fmax, MVA\n",
      "0     1   2       0.01938       0.05917        0.0528         95\n",
      "1     1   5       0.05203       0.20304        0.0492        100\n",
      "   From  To  Rtotal, p.u.  Xtotal, p.u.  Btotal, p.u.  Fmax, MVA\n",
      "0     1   2       0.01938       0.05917        0.0528         95\n",
      "2     2   3       0.04699       0.19797        0.0438       9999\n",
      "3     2   4       0.05811       0.17632        0.0340       9999\n",
      "4     2   5       0.05695       0.07388        0.0346       9999\n",
      "   From  To  Rtotal, p.u.  Xtotal, p.u.  Btotal, p.u.  Fmax, MVA\n",
      "2     2   3       0.04699       0.19797        0.0438       9999\n",
      "5     3   4       0.67010       0.17103        0.0128       9999\n",
      "   From  To  Rtotal, p.u.  Xtotal, p.u.  Btotal, p.u.  Fmax, MVA\n",
      "3     2   4       0.05811       0.17632        0.0340       9999\n",
      "5     3   4       0.67010       0.17103        0.0128       9999\n",
      "6     4   5       0.01335       0.04211        0.0391       9999\n",
      "7     4   7       0.00000       0.55618        0.0000       9999\n",
      "   From  To  Rtotal, p.u.  Xtotal, p.u.  Btotal, p.u.  Fmax, MVA\n",
      "1     1   5       0.05203       0.20304        0.0492        100\n",
      "4     2   5       0.05695       0.07388        0.0346       9999\n",
      "6     4   5       0.01335       0.04211        0.0391       9999\n",
      "8     5   6       0.00000       0.25202        0.0000       9999\n",
      "    From  To  Rtotal, p.u.  Xtotal, p.u.  Btotal, p.u.  Fmax, MVA\n",
      "8      5   6       0.00000       0.25202        0.0000       9999\n",
      "9      6   9       0.09498       0.19890        0.0176       9999\n",
      "10     6  10       0.12291       0.25581        0.0267       9999\n",
      "11     6  11       0.06615       0.13027        0.0310       9999\n",
      "    From  To  Rtotal, p.u.  Xtotal, p.u.  Btotal, p.u.  Fmax, MVA\n",
      "7      4   7       0.00000       0.55618        0.0000       9999\n",
      "12     7   8       0.03181       0.08450        0.0410       9999\n",
      "13     7  12       0.12711       0.27038        0.0323       9999\n",
      "    From  To  Rtotal, p.u.  Xtotal, p.u.  Btotal, p.u.  Fmax, MVA\n",
      "12     7   8       0.03181       0.08450         0.041       9999\n",
      "14     8   9       0.08205       0.19207         0.026       9999\n",
      "    From  To  Rtotal, p.u.  Xtotal, p.u.  Btotal, p.u.  Fmax, MVA\n",
      "9      6   9       0.09498       0.19890        0.0176       9999\n",
      "14     8   9       0.08205       0.19207        0.0260       9999\n",
      "    From  To  Rtotal, p.u.  Xtotal, p.u.  Btotal, p.u.  Fmax, MVA\n",
      "10     6  10       0.12291       0.25581        0.0267       9999\n",
      "15    10  11       0.22092       0.19988        0.0190       9999\n",
      "    From  To  Rtotal, p.u.  Xtotal, p.u.  Btotal, p.u.  Fmax, MVA\n",
      "11     6  11       0.06615       0.13027         0.031       9999\n",
      "15    10  11       0.22092       0.19988         0.019       9999\n",
      "16    11  12       0.17093       0.34802         0.036       9999\n",
      "    From  To  Rtotal, p.u.  Xtotal, p.u.  Btotal, p.u.  Fmax, MVA\n",
      "13     7  12       0.12711       0.27038        0.0323       9999\n",
      "16    11  12       0.17093       0.34802        0.0360       9999\n",
      "[[ 6.18345216-19.88473645j -4.9991316 +15.26308652j\n",
      "   0.         +0.j          0.         +0.j\n",
      "  -1.18432056 +4.62164993j  0.         +0.j\n",
      "   0.         +0.j          0.         +0.j\n",
      "   0.         +0.j          0.         +0.j\n",
      "   0.         +0.j          0.         +0.j        ]\n",
      " [-4.9991316 +15.26308652j 14.36498974-33.65122263j\n",
      "  -1.13501919 +4.78186315j -1.68603315 +5.11583833j\n",
      "  -6.54480579 +8.49043463j  0.         +0.j\n",
      "   0.         +0.j          0.         +0.j\n",
      "   0.         +0.j          0.         +0.j\n",
      "   0.         +0.j          0.         +0.j        ]\n",
      " [ 0.         +0.j         -1.13501919 +4.78186315j\n",
      "   2.53606589 -5.13945309j -1.4010467  +0.35758994j\n",
      "   0.         +0.j          0.         +0.j\n",
      "   0.         +0.j          0.         +0.j\n",
      "   0.         +0.j          0.         +0.j\n",
      "   0.         +0.j          0.         +0.j        ]\n",
      " [ 0.         +0.j         -1.68603315 +5.11583833j\n",
      "  -1.4010467  +0.35758994j  9.92806051-28.84996132j\n",
      "  -6.84098066+21.57855398j  0.         +0.j\n",
      "  -0.         +1.79797907j  0.         +0.j\n",
      "   0.         +0.j          0.         +0.j\n",
      "   0.         +0.j          0.         +0.j        ]\n",
      " [-1.18432056 +4.62164993j -6.54480579 +8.49043463j\n",
      "   0.         +0.j         -6.84098066+21.57855398j\n",
      "  14.57010701-38.65857759j -0.         +3.96793905j\n",
      "   0.         +0.j          0.         +0.j\n",
      "   0.         +0.j          0.         +0.j\n",
      "   0.         +0.j          0.         +0.j        ]\n",
      " [ 0.         +0.j          0.         +0.j\n",
      "   0.         +0.j          0.         +0.j\n",
      "  -0.         +3.96793905j  6.57992341-17.34073281j\n",
      "   0.         +0.j          0.         +0.j\n",
      "  -1.95502856 +4.09407434j -1.52596744 +3.17596397j\n",
      "  -3.0989274  +6.10275545j  0.         +0.j        ]\n",
      " [ 0.         +0.j          0.         +0.j\n",
      "   0.         +0.j         -0.         +1.79797907j\n",
      "   0.         +0.j          0.         +0.j\n",
      "   5.32605504-15.19242366j -3.90204955+10.36539413j\n",
      "   0.         +0.j          0.         +0.j\n",
      "   0.         +0.j         -1.42400549 +3.02905046j]\n",
      " [ 0.         +0.j          0.         +0.j\n",
      "   0.         +0.j          0.         +0.j\n",
      "   0.         +0.j          0.         +0.j\n",
      "  -3.90204955+10.36539413j  5.78293431-14.76833788j\n",
      "  -1.88088475 +4.40294375j  0.         +0.j\n",
      "   0.         +0.j          0.         +0.j        ]\n",
      " [ 0.         +0.j          0.         +0.j\n",
      "   0.         +0.j          0.         +0.j\n",
      "   0.         +0.j         -1.95502856 +4.09407434j\n",
      "   0.         +0.j         -1.88088475 +4.40294375j\n",
      "   3.83591332 -8.49701809j  0.         +0.j\n",
      "   0.         +0.j          0.         +0.j        ]\n",
      " [ 0.         +0.j          0.         +0.j\n",
      "   0.         +0.j          0.         +0.j\n",
      "   0.         +0.j         -1.52596744 +3.17596397j\n",
      "   0.         +0.j          0.         +0.j\n",
      "   0.         +0.j          4.01499203 -5.42793859j\n",
      "  -2.48902459 +2.25197463j  0.         +0.j        ]\n",
      " [ 0.         +0.j          0.         +0.j\n",
      "   0.         +0.j          0.         +0.j\n",
      "   0.         +0.j         -3.0989274  +6.10275545j\n",
      "   0.         +0.j          0.         +0.j\n",
      "   0.         +0.j         -2.48902459 +2.25197463j\n",
      "   6.72494615-10.66969355j -1.13699416 +2.31496348j]\n",
      " [ 0.         +0.j          0.         +0.j\n",
      "   0.         +0.j          0.         +0.j\n",
      "   0.         +0.j          0.         +0.j\n",
      "  -1.42400549 +3.02905046j  0.         +0.j\n",
      "   0.         +0.j          0.         +0.j\n",
      "  -1.13699416 +2.31496348j  2.56099964 -5.34401393j]]\n"
     ]
    }
   ],
   "source": [
    "# Calculating admittance matrix\n",
    "num_buses = len(bus_data)\n",
    "Ybus = np.zeros((num_buses, num_buses), dtype=complex)\n",
    "\n",
    "# Test admitance matrix\n",
    "# print(Ybus)\n",
    "\n",
    "# Calculate total admittance of lines connected to each bus and store on the main diagonal\n",
    "for i in range(num_buses):\n",
    "    # Debug code\n",
    "    # print('iteration', i)\n",
    "    \n",
    "    # Select all lines connected to the current bus in question.\n",
    "    bus_lines = line_data[(line_data['From'] == i + 1) | (line_data['To'] == i + 1)]\n",
    "    print(bus_lines)\n",
    "    # Sum all line admittances.\n",
    "    total_admittance = sum(1 / (line['Rtotal, p.u.'] + 1j * line['Xtotal, p.u.']) for _, line in bus_lines.iterrows())\n",
    "    Ybus[i, i] = total_admittance\n",
    "\n",
    "# Test calculations\n",
    "# print(Ybus)\n",
    "\n",
    "# Calculate admittance between each pair of buses and fill the off-diagonal elements\n",
    "for _, line in line_data.iterrows():\n",
    "    from_bus = int(line['From']) - 1\n",
    "    to_bus = int(line['To']) - 1\n",
    "    \n",
    "    admittance = 1 / (line['Rtotal, p.u.'] + 1j * line['Xtotal, p.u.'])\n",
    "    \n",
    "    Ybus[from_bus, to_bus] = -admittance\n",
    "    Ybus[to_bus, from_bus] = -admittance  # Assuming symmetric matrix\n",
    "\n",
    "# print(\"Admittance Matrix (Ybus):\")\n",
    "print(Ybus)"
   ]
  },
  {
   "cell_type": "code",
   "execution_count": 9,
   "id": "4806f6db-7d3a-4fb1-9cb7-652296892707",
   "metadata": {},
   "outputs": [],
   "source": [
    "# Create 12x1 Matrix to store given V values\n",
    "num_buses = len(bus_data)\n",
    "V_bus = np.zeros(num_buses)\n",
    "# print(num_buses)\n",
    "for i in range(len(bus_data)):\n",
    "    V_bus[i] = bus_data.iloc[i]['V Set']\n",
    "# print(V_bus)"
   ]
  },
  {
   "cell_type": "code",
   "execution_count": 10,
   "id": "316fab95-bc94-4091-b1e3-2146e172790c",
   "metadata": {},
   "outputs": [],
   "source": [
    "# Create 12 x 1 Matrix to initialize bus angle values\n",
    "bus_angles = np.zeros(len(bus_data))\n",
    "# print(bus_angles)"
   ]
  },
  {
   "cell_type": "code",
   "execution_count": 11,
   "id": "98f6d3dd-65d5-4fce-9ee7-f9364c914c54",
   "metadata": {},
   "outputs": [
    {
     "name": "stdout",
     "output_type": "stream",
     "text": [
      "Per-Unit Matrix (Active Power (P), Reactive Power (Q), Generated Power (P Gen)):\n",
      "[[ 0.     0.     0.   ]\n",
      " [ 0.201  0.125  0.   ]\n",
      " [ 0.452  0.16   0.42 ]\n",
      " [ 0.608  0.109  0.   ]\n",
      " [ 0.076 -0.016  0.   ]\n",
      " [ 0.135  0.085  0.   ]\n",
      " [ 0.335  0.116  0.   ]\n",
      " [ 0.09   0.058  0.   ]\n",
      " [ 0.043  0.021  0.23 ]\n",
      " [ 0.052  0.016  0.27 ]\n",
      " [ 0.135  0.058  0.   ]\n",
      " [ 0.149  0.05   0.33 ]]\n"
     ]
    }
   ],
   "source": [
    "base_MVA = 100  # Base MVA\n",
    "\n",
    "# Create a matrix to store per-unit values for active power (P), reactive power (Q), and generated power (P Gen)\n",
    "num_buses = len(bus_data)\n",
    "per_unit_matrix = np.zeros((num_buses, 3))  # 3 columns for P, Q, and P Gen\n",
    "\n",
    "# Calculate and store per-unit values in the matrix\n",
    "for i in range(num_buses):\n",
    "    P_pu = bus_data.iloc[i]['P MW'] / base_MVA\n",
    "    Q_pu = bus_data.iloc[i]['Q MVAr'] / base_MVA\n",
    "    P_Gen_pu = bus_data.iloc[i]['P Gen'] / base_MVA\n",
    "    \n",
    "    # Store per-unit values in the matrix\n",
    "    per_unit_matrix[i, 0] = P_pu\n",
    "    per_unit_matrix[i, 1] = Q_pu\n",
    "    per_unit_matrix[i, 2] = P_Gen_pu\n",
    "\n",
    "# Display the matrix\n",
    "print(\"Per-Unit Matrix (Active Power (P), Reactive Power (Q), Generated Power (P Gen)):\")\n",
    "print(per_unit_matrix)"
   ]
  },
  {
   "cell_type": "code",
   "execution_count": 15,
   "id": "0d21d783-fe99-4831-9ee8-252c486586a8",
   "metadata": {},
   "outputs": [
    {
     "name": "stdout",
     "output_type": "stream",
     "text": [
      "    P_net, p.u.  Q_net, p.u.  P_Gen, p.u.\n",
      "0         0.000       -0.000         0.00\n",
      "1        -0.201       -0.125         0.00\n",
      "2        -0.032       -0.160         0.42\n",
      "3        -0.608       -0.109         0.00\n",
      "4        -0.076        0.016         0.00\n",
      "5        -0.135       -0.085         0.00\n",
      "6        -0.335       -0.116         0.00\n",
      "7        -0.090       -0.058         0.00\n",
      "8         0.187       -0.021         0.23\n",
      "9         0.218       -0.016         0.27\n",
      "10       -0.135       -0.058         0.00\n",
      "11        0.181       -0.050         0.33\n"
     ]
    }
   ],
   "source": [
    "#Calculating the net injection\n",
    "\n",
    "df = pd.DataFrame(per_unit_matrix, columns=['P, p.u.', 'Q, p.u.', 'P_Gen, p.u.'])\n",
    "\n",
    "# Perform column operations\n",
    "netInjection_matrix = df.copy()\n",
    "netInjection_matrix['P, p.u.'] = netInjection_matrix['P_Gen, p.u.'] - netInjection_matrix['P, p.u.']\n",
    "netInjection_matrix['Q, p.u.'] = -1 * netInjection_matrix['Q, p.u.']\n",
    "\n",
    "# Rename columns in the new matrix\n",
    "netInjection_matrix.columns = ['P_net, p.u.', 'Q_net, p.u.', 'P_Gen, p.u.']\n",
    "\n",
    "print(netInjection_matrix)\n"
   ]
  },
  {
   "cell_type": "code",
   "execution_count": 17,
   "id": "65aec19c-abd6-417c-9b05-d74fa9080700",
   "metadata": {},
   "outputs": [
    {
     "name": "stdout",
     "output_type": "stream",
     "text": [
      "[ 0.25723161 19.87165926 45.26498669 60.76497383  7.55262718 13.43038008\n",
      " 33.45727984  8.9623823   4.37825263  5.28190584 13.41610968 14.97913489]\n",
      "[ 0.82720504 11.76992996 16.13169849 10.89106025 -1.784866    8.35459923\n",
      " 11.50912849  5.71194113  2.27333917  1.71072995  5.6855116   5.16513003]\n"
     ]
    },
    {
     "data": {
      "text/plain": [
       "'\\n# Calculate mismatches\\nmismatch_P = P_cal[:, 0] - P_calc\\nmismatch_Q = per_unit_matrix[1] - Q_calc\\n\\n# Display mismatches\\nprint(\"Mismatch in Active Power (P):\")\\nprint(mismatch_P)\\n\\nprint(\"\\nMismatch in Reactive Power (Q):\")\\nprint(mismatch_Q)\\n'"
      ]
     },
     "execution_count": 17,
     "metadata": {},
     "output_type": "execute_result"
    }
   ],
   "source": [
    "# Assuming Ybus is the calculated admittance matrix and bus_data contains bus information\n",
    "\n",
    "# x @ y for matric multiplication\n",
    "\n",
    "# Number of buses\n",
    "num_buses = len(bus_data)\n",
    "\n",
    "# Initialize arrays to store calculated P and Q\n",
    "P_calc = np.zeros(num_buses)\n",
    "Q_calc = np.zeros(num_buses)\n",
    "\n",
    "# Calculate P and Q injections at each bus with zero angles assumption\n",
    "for i in range(num_buses):\n",
    "    # Initialize injections with the known values\n",
    "    P_calc[i] = bus_data.iloc[i]['P MW']\n",
    "    Q_calc[i] = bus_data.iloc[i]['Q MVAr'] \n",
    "    \n",
    "    for j in range(num_buses):\n",
    "        # Compute P and Q injections based on the admittance matrix and assuming zero angles\n",
    "        P_calc[i] += np.abs(bus_data.iloc[i]['V Set']) * np.abs(bus_data.iloc[j]['V Set']) * \\\n",
    "                     np.real(Ybus[i, j])\n",
    "        \n",
    "        Q_calc[i] += np.abs(bus_data.iloc[i]['V Set']) * np.abs(bus_data.iloc[j]['V Set']) * \\\n",
    "                     (-np.imag(Ybus[i, j]))  # Negate the imaginary part for Q calculation\n",
    "print(P_calc)\n",
    "print(Q_calc)\n",
    "'''\n",
    "# Calculate mismatches\n",
    "mismatch_P = P_cal[:, 0] - P_calc\n",
    "mismatch_Q = per_unit_matrix[1] - Q_calc\n",
    "\n",
    "# Display mismatches\n",
    "print(\"Mismatch in Active Power (P):\")\n",
    "print(mismatch_P)\n",
    "\n",
    "print(\"\\nMismatch in Reactive Power (Q):\")\n",
    "print(mismatch_Q)\n",
    "'''"
   ]
  },
  {
   "cell_type": "code",
   "execution_count": null,
   "id": "184df3a6-a7a3-4d66-abe5-2d48f93262a7",
   "metadata": {},
   "outputs": [],
   "source": [
    "# Assuming Ybus is the calculated admittance matrix and bus_data contains bus information\n",
    "# Assuming angles is a 12x1 matrix containing voltage angles for each bus in radians\n",
    "\n",
    "# Number of buses\n",
    "num_buses = len(bus_data)\n",
    "\n",
    "# Initialize arrays to store calculated P and Q\n",
    "P_calc = np.zeros(num_buses)\n",
    "Q_calc = np.zeros(num_buses)\n",
    "\n",
    "# Calculate P and Q injections at each bus\n",
    "for i in range(num_buses):\n",
    "    # Initialize loads with the known values\n",
    "    P_calc[i] = P_gen[i] - bus_data.iloc[i]['P MW']\n",
    "    Q_calc[i] = bus_data.iloc[i]['Q MVAr']\n",
    "\n",
    "    # Test code\n",
    "    print(\"i term\", i, P_calc)\n",
    "    print(\"i term\", i, Q_calc)\n",
    "    \n",
    "    for j in range(num_buses):\n",
    "        P_calc[i] += V_bus[i] * np.sum(V_bus[j] * (np.real(Ybus[i, j])) * np.cos(np.angle(Ybus[i,j])) + np.imag(Ybus[i,j]) * np.sin(np.angle(Ybus[i,j])))\n",
    "        Q_calc[i] += V_bus[i] * np.sum(V_bus[j] * (np.real(Ybus[i, j])) * np.sin(np.angle(Ybus[i,j])) - np.imag(Ybus[i,j]) * np.cos(np.angle(Ybus[i,j])))\n",
    "        \n",
    "        # Test code\n",
    "        print(\"j term\", j, P_calc)\n",
    "        print(\"j term\", j, Q_calc)\n",
    "\n",
    "# Test code\n",
    "print(P_calc)\n",
    "print(Q_calc)\n",
    "\n",
    "# Calculate mismatches\n",
    "mismatch_P = bus_data['P MW'] - P_calc\n",
    "mismatch_Q = bus_data['Q MVAr'] - Q_calc\n",
    "\n",
    "# Display mismatches\n",
    "print(\"Mismatch in Active Power (P):\")\n",
    "print(mismatch_P)\n",
    "\n",
    "print(\"\\nMismatch in Reactive Power (Q):\")\n",
    "print(mismatch_Q)"
   ]
  },
  {
   "cell_type": "code",
   "execution_count": null,
   "id": "1ffbb1c4-3a26-4aa1-b0cf-78e57451aeb8",
   "metadata": {},
   "outputs": [],
   "source": [
    "# Number of buses\n",
    "num_buses = len(bus_data)\n",
    "\n",
    "# Initialize array to store calculated active power P_i at each bus\n",
    "P_calc = np.zeros(num_buses)\n",
    "\n",
    "# Calculate active power injections at each bus\n",
    "for i in range(num_buses):\n",
    "    # Initialize active power with the known value from the input data\n",
    "    P_calc[i] = bus_data.iloc[i]['P MW']\n",
    "    \n",
    "    for j in range(num_buses):\n",
    "        # Calculate active power injection using the power flow equation\n",
    "        V_i = np.abs(bus_data.iloc[i]['V Set'])\n",
    "        V_j = np.abs(bus_data.iloc[j]['V Set'])\n",
    "        angle_diff = np.angle(Ybus[i, j])\n",
    "        G_ij = np.real(Ybus[i, j])\n",
    "        B_ij = np.imag(Ybus[i, j])\n",
    "        \n",
    "        P_calc[i] -= V_i * V_j * (G_ij * np.cos(angle_diff) + B_ij * np.sin(angle_diff))\n",
    "\n",
    "# Display calculated active power at each bus\n",
    "print(\"Calculated Active Power (P_i) at each bus:\")\n",
    "print(P_calc)"
   ]
  },
  {
   "cell_type": "code",
   "execution_count": null,
   "id": "36a7f27c-8bc9-4b31-9b3e-3c015a3edae9",
   "metadata": {},
   "outputs": [],
   "source": [
    "'''\n",
    "Z=1/y. \n",
    "if we delete one of the lines, 1/2 R. \n",
    "Cont. plan1 --\n",
    "'''"
   ]
  },
  {
   "cell_type": "code",
   "execution_count": null,
   "id": "e7cbc44d-0287-49e4-b63b-1942eae9a496",
   "metadata": {},
   "outputs": [],
   "source": []
  }
 ],
 "metadata": {
  "kernelspec": {
   "display_name": "Python 3 (ipykernel)",
   "language": "python",
   "name": "python3"
  },
  "language_info": {
   "codemirror_mode": {
    "name": "ipython",
    "version": 3
   },
   "file_extension": ".py",
   "mimetype": "text/x-python",
   "name": "python",
   "nbconvert_exporter": "python",
   "pygments_lexer": "ipython3",
   "version": "3.12.0"
  }
 },
 "nbformat": 4,
 "nbformat_minor": 5
}
