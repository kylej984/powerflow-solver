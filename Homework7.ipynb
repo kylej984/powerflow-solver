{
 "cells": [
  {
   "cell_type": "markdown",
   "id": "601313e0-4cfb-48b0-a7f9-1e991079d369",
   "metadata": {},
   "source": [
    "Resources about numpy:\n",
    "https://numpy.org/doc/stable/user/quickstart.html"
   ]
  },
  {
   "cell_type": "markdown",
   "id": "1896cd45-2440-4d78-aebd-86c61873a4bf",
   "metadata": {},
   "source": [
    "Resources about pandas:\n",
    "https://pandas.pydata.org/docs/reference/frame.html\n"
   ]
  },
  {
   "cell_type": "code",
   "execution_count": 1,
   "id": "5b8b1089-516b-4916-8d0c-f8c71d1f6c01",
   "metadata": {},
   "outputs": [],
   "source": [
    "## Step 1: Install command for numpy using command prompt or terminal: pip install numpy\r",
    "## Step 2: Install command for pandas using command prompt or terminal: pip install pandas"
   ]
  },
  {
   "cell_type": "markdown",
   "id": "98202bf9-2229-4fdd-a7d3-2ede72942c1f",
   "metadata": {},
   "source": [
    "Problem 1. Provide Python code that reads the system data found on Canvas. This data\r\n",
    "should not be manually modified outside of your code (e.g., you should not modify the .xlsx\r\n",
    "file directly in Excel). Note that bus-related data and line-related data are contained in\r\n",
    "separate sheets of the same .xlsx file. This function should take the file path of the system\r\n",
    "data as input and should return the bus data and the line data. (25 points)"
   ]
  },
  {
   "cell_type": "code",
   "execution_count": 2,
   "id": "597cc389-872e-4a2f-b682-956189c4b152",
   "metadata": {},
   "outputs": [
    {
     "name": "stdout",
     "output_type": "stream",
     "text": [
      "Requirement already satisfied: numpy in /Library/Frameworks/Python.framework/Versions/3.12/lib/python3.12/site-packages (1.26.2)\n"
     ]
    }
   ],
   "source": [
    "!pip install numpy"
   ]
  },
  {
   "cell_type": "code",
   "execution_count": 3,
   "id": "c8a6f0a6-3f67-4e91-9f5b-3c91b07c96c4",
   "metadata": {
    "scrolled": true
   },
   "outputs": [
    {
     "name": "stdout",
     "output_type": "stream",
     "text": [
      "Requirement already satisfied: pandas in /Library/Frameworks/Python.framework/Versions/3.12/lib/python3.12/site-packages (2.1.3)\n",
      "Requirement already satisfied: numpy<2,>=1.26.0 in /Library/Frameworks/Python.framework/Versions/3.12/lib/python3.12/site-packages (from pandas) (1.26.2)\n",
      "Requirement already satisfied: python-dateutil>=2.8.2 in /Library/Frameworks/Python.framework/Versions/3.12/lib/python3.12/site-packages (from pandas) (2.8.2)\n",
      "Requirement already satisfied: pytz>=2020.1 in /Library/Frameworks/Python.framework/Versions/3.12/lib/python3.12/site-packages (from pandas) (2023.3.post1)\n",
      "Requirement already satisfied: tzdata>=2022.1 in /Library/Frameworks/Python.framework/Versions/3.12/lib/python3.12/site-packages (from pandas) (2023.3)\n",
      "Requirement already satisfied: six>=1.5 in /Library/Frameworks/Python.framework/Versions/3.12/lib/python3.12/site-packages (from python-dateutil>=2.8.2->pandas) (1.16.0)\n"
     ]
    }
   ],
   "source": [
    "!pip3 install pandas"
   ]
  },
  {
   "cell_type": "code",
   "execution_count": 4,
   "id": "62af864d-a3d2-471e-bca5-4b6d97ec1615",
   "metadata": {},
   "outputs": [
    {
     "name": "stdout",
     "output_type": "stream",
     "text": [
      "Requirement already satisfied: openpyxl in /Library/Frameworks/Python.framework/Versions/3.12/lib/python3.12/site-packages (3.1.2)\n",
      "Requirement already satisfied: et-xmlfile in /Library/Frameworks/Python.framework/Versions/3.12/lib/python3.12/site-packages (from openpyxl) (1.1.0)\n"
     ]
    }
   ],
   "source": [
    "!pip install openpyxl"
   ]
  },
  {
   "cell_type": "code",
   "execution_count": 5,
   "id": "4c325cfd-dbb0-4b1f-ad35-cc6b04f0a07d",
   "metadata": {},
   "outputs": [],
   "source": [
    "## Import numpy and pandas\n",
    "import numpy as np\n",
    "import pandas as pd"
   ]
  },
  {
   "cell_type": "code",
   "execution_count": 6,
   "id": "75c6ba88-6f7a-4584-b0e0-676ed69366d0",
   "metadata": {
    "scrolled": true
   },
   "outputs": [
    {
     "name": "stdout",
     "output_type": "stream",
     "text": [
      "    Bus #  P MW  Q MVAr Type  P Gen  V Set\n",
      "0       1   0.0     0.0    S      0  1.040\n",
      "1       2  20.1    12.5    D      0  1.000\n",
      "2       3  45.2    16.0    G     42  1.025\n",
      "3       4  60.8    10.9    D      0  1.000\n",
      "4       5   7.6    -1.6    D      0  1.000\n",
      "5       6  13.5     8.5    D      0  1.000\n",
      "6       7  33.5    11.6    D      0  1.000\n",
      "7       8   9.0     5.8    D      0  1.000\n",
      "8       9   4.3     2.1    G     23  1.020\n",
      "9      10   5.2     1.6    G     27  1.020\n",
      "10     11  13.5     5.8    D      0  1.000\n",
      "11     12  14.9     5.0    G     33  1.030\n",
      "    From  To  Rtotal, p.u.  Xtotal, p.u.  Btotal, p.u.  Fmax, MVA\n",
      "0      1   2       0.01938       0.05917        0.0528         95\n",
      "1      1   5       0.05203       0.20304        0.0492        100\n",
      "2      2   3       0.04699       0.19797        0.0438       9999\n",
      "3      2   4       0.05811       0.17632        0.0340       9999\n",
      "4      2   5       0.05695       0.07388        0.0346       9999\n",
      "5      3   4       0.67010       0.17103        0.0128       9999\n",
      "6      4   5       0.01335       0.04211        0.0391       9999\n",
      "7      4   7       0.00000       0.55618        0.0000       9999\n",
      "8      5   6       0.00000       0.25202        0.0000       9999\n",
      "9      6   9       0.09498       0.19890        0.0176       9999\n",
      "10     6  10       0.12291       0.25581        0.0267       9999\n",
      "11     6  11       0.06615       0.13027        0.0310       9999\n",
      "12     7   8       0.03181       0.08450        0.0410       9999\n",
      "13     7  12       0.12711       0.27038        0.0323       9999\n",
      "14     8   9       0.08205       0.19207        0.0260       9999\n",
      "15    10  11       0.22092       0.19988        0.0190       9999\n",
      "16    11  12       0.17093       0.34802        0.0360       9999\n"
     ]
    }
   ],
   "source": [
    "# Replace 'file.xlsx' with your actual file path\n",
    "file_path = 'system_basecase.xlsx'\n",
    "\n",
    "# Replace 'Sheet1' with the name of the sheet you want to read\n",
    "sheet_name1 = 'BusData'\n",
    "sheet_name2 = 'LineData'\n",
    "\n",
    "\n",
    "# Read the Excel file into a pandas DataFrame for the specified sheet\n",
    "bus_data = pd.read_excel(file_path, sheet_name=sheet_name1)\n",
    "line_data = pd.read_excel(file_path, sheet_name=sheet_name2)\n",
    "\n",
    "# Display the contents of the DataFrame\n",
    "print(bus_data)\n",
    "print(line_data)"
   ]
  },
  {
   "cell_type": "markdown",
   "id": "b8906fa4-3213-40e5-96fa-854a2b38913c",
   "metadata": {},
   "source": [
    "Problem 2. Provide Python code that creates an admittance matrix from the provided\r\n",
    "system data. This function should take bus data and line data as inputs and should return\r\n",
    "the admittance matrix, either as a single variable or as two variables where the admittance\r\n",
    "matrix is decomposed into the conductance and susceptance matrices. Provide either the\r\n",
    "admittance matrix or the conductance and susceptance matrices. (35 points)"
   ]
  },
  {
   "cell_type": "code",
   "execution_count": 7,
   "id": "dd7a06a9-d3c5-4612-b454-f540a2bac657",
   "metadata": {
    "scrolled": true
   },
   "outputs": [
    {
     "name": "stdout",
     "output_type": "stream",
     "text": [
      "[[0.+0.j 0.+0.j 0.+0.j 0.+0.j 0.+0.j 0.+0.j 0.+0.j 0.+0.j 0.+0.j 0.+0.j\n",
      "  0.+0.j 0.+0.j]\n",
      " [0.+0.j 0.+0.j 0.+0.j 0.+0.j 0.+0.j 0.+0.j 0.+0.j 0.+0.j 0.+0.j 0.+0.j\n",
      "  0.+0.j 0.+0.j]\n",
      " [0.+0.j 0.+0.j 0.+0.j 0.+0.j 0.+0.j 0.+0.j 0.+0.j 0.+0.j 0.+0.j 0.+0.j\n",
      "  0.+0.j 0.+0.j]\n",
      " [0.+0.j 0.+0.j 0.+0.j 0.+0.j 0.+0.j 0.+0.j 0.+0.j 0.+0.j 0.+0.j 0.+0.j\n",
      "  0.+0.j 0.+0.j]\n",
      " [0.+0.j 0.+0.j 0.+0.j 0.+0.j 0.+0.j 0.+0.j 0.+0.j 0.+0.j 0.+0.j 0.+0.j\n",
      "  0.+0.j 0.+0.j]\n",
      " [0.+0.j 0.+0.j 0.+0.j 0.+0.j 0.+0.j 0.+0.j 0.+0.j 0.+0.j 0.+0.j 0.+0.j\n",
      "  0.+0.j 0.+0.j]\n",
      " [0.+0.j 0.+0.j 0.+0.j 0.+0.j 0.+0.j 0.+0.j 0.+0.j 0.+0.j 0.+0.j 0.+0.j\n",
      "  0.+0.j 0.+0.j]\n",
      " [0.+0.j 0.+0.j 0.+0.j 0.+0.j 0.+0.j 0.+0.j 0.+0.j 0.+0.j 0.+0.j 0.+0.j\n",
      "  0.+0.j 0.+0.j]\n",
      " [0.+0.j 0.+0.j 0.+0.j 0.+0.j 0.+0.j 0.+0.j 0.+0.j 0.+0.j 0.+0.j 0.+0.j\n",
      "  0.+0.j 0.+0.j]\n",
      " [0.+0.j 0.+0.j 0.+0.j 0.+0.j 0.+0.j 0.+0.j 0.+0.j 0.+0.j 0.+0.j 0.+0.j\n",
      "  0.+0.j 0.+0.j]\n",
      " [0.+0.j 0.+0.j 0.+0.j 0.+0.j 0.+0.j 0.+0.j 0.+0.j 0.+0.j 0.+0.j 0.+0.j\n",
      "  0.+0.j 0.+0.j]\n",
      " [0.+0.j 0.+0.j 0.+0.j 0.+0.j 0.+0.j 0.+0.j 0.+0.j 0.+0.j 0.+0.j 0.+0.j\n",
      "  0.+0.j 0.+0.j]]\n"
     ]
    }
   ],
   "source": [
    "import numpy as np\n",
    "\n",
    "# Assuming bus_data and line_data DataFrames are already read from your Excel files\n",
    "\n",
    "# Calculating admittance matrix\n",
    "num_buses = len(bus_data)\n",
    "Ybus = np.zeros((num_buses, num_buses), dtype=complex)\n",
    "\n",
    "# Test admitance matrix\n",
    "print(Ybus)"
   ]
  },
  {
   "cell_type": "code",
   "execution_count": 8,
   "id": "98d70d85-60dd-4b0a-ab51-c100067754d6",
   "metadata": {
    "scrolled": true
   },
   "outputs": [
    {
     "name": "stdout",
     "output_type": "stream",
     "text": [
      "iteration 0\n",
      "   From  To  Rtotal, p.u.  Xtotal, p.u.  Btotal, p.u.  Fmax, MVA\n",
      "0     1   2       0.01938       0.05917        0.0528         95\n",
      "1     1   5       0.05203       0.20304        0.0492        100\n",
      "iteration 1\n",
      "   From  To  Rtotal, p.u.  Xtotal, p.u.  Btotal, p.u.  Fmax, MVA\n",
      "0     1   2       0.01938       0.05917        0.0528         95\n",
      "2     2   3       0.04699       0.19797        0.0438       9999\n",
      "3     2   4       0.05811       0.17632        0.0340       9999\n",
      "4     2   5       0.05695       0.07388        0.0346       9999\n",
      "iteration 2\n",
      "   From  To  Rtotal, p.u.  Xtotal, p.u.  Btotal, p.u.  Fmax, MVA\n",
      "2     2   3       0.04699       0.19797        0.0438       9999\n",
      "5     3   4       0.67010       0.17103        0.0128       9999\n",
      "iteration 3\n",
      "   From  To  Rtotal, p.u.  Xtotal, p.u.  Btotal, p.u.  Fmax, MVA\n",
      "3     2   4       0.05811       0.17632        0.0340       9999\n",
      "5     3   4       0.67010       0.17103        0.0128       9999\n",
      "6     4   5       0.01335       0.04211        0.0391       9999\n",
      "7     4   7       0.00000       0.55618        0.0000       9999\n",
      "iteration 4\n",
      "   From  To  Rtotal, p.u.  Xtotal, p.u.  Btotal, p.u.  Fmax, MVA\n",
      "1     1   5       0.05203       0.20304        0.0492        100\n",
      "4     2   5       0.05695       0.07388        0.0346       9999\n",
      "6     4   5       0.01335       0.04211        0.0391       9999\n",
      "8     5   6       0.00000       0.25202        0.0000       9999\n",
      "iteration 5\n",
      "    From  To  Rtotal, p.u.  Xtotal, p.u.  Btotal, p.u.  Fmax, MVA\n",
      "8      5   6       0.00000       0.25202        0.0000       9999\n",
      "9      6   9       0.09498       0.19890        0.0176       9999\n",
      "10     6  10       0.12291       0.25581        0.0267       9999\n",
      "11     6  11       0.06615       0.13027        0.0310       9999\n",
      "iteration 6\n",
      "    From  To  Rtotal, p.u.  Xtotal, p.u.  Btotal, p.u.  Fmax, MVA\n",
      "7      4   7       0.00000       0.55618        0.0000       9999\n",
      "12     7   8       0.03181       0.08450        0.0410       9999\n",
      "13     7  12       0.12711       0.27038        0.0323       9999\n",
      "iteration 7\n",
      "    From  To  Rtotal, p.u.  Xtotal, p.u.  Btotal, p.u.  Fmax, MVA\n",
      "12     7   8       0.03181       0.08450         0.041       9999\n",
      "14     8   9       0.08205       0.19207         0.026       9999\n",
      "iteration 8\n",
      "    From  To  Rtotal, p.u.  Xtotal, p.u.  Btotal, p.u.  Fmax, MVA\n",
      "9      6   9       0.09498       0.19890        0.0176       9999\n",
      "14     8   9       0.08205       0.19207        0.0260       9999\n",
      "iteration 9\n",
      "    From  To  Rtotal, p.u.  Xtotal, p.u.  Btotal, p.u.  Fmax, MVA\n",
      "10     6  10       0.12291       0.25581        0.0267       9999\n",
      "15    10  11       0.22092       0.19988        0.0190       9999\n",
      "iteration 10\n",
      "    From  To  Rtotal, p.u.  Xtotal, p.u.  Btotal, p.u.  Fmax, MVA\n",
      "11     6  11       0.06615       0.13027         0.031       9999\n",
      "15    10  11       0.22092       0.19988         0.019       9999\n",
      "16    11  12       0.17093       0.34802         0.036       9999\n",
      "iteration 11\n",
      "    From  To  Rtotal, p.u.  Xtotal, p.u.  Btotal, p.u.  Fmax, MVA\n",
      "13     7  12       0.12711       0.27038        0.0323       9999\n",
      "16    11  12       0.17093       0.34802        0.0360       9999\n",
      "[[ 6.18345216-19.88473645j  0.         +0.j\n",
      "   0.         +0.j          0.         +0.j\n",
      "   0.         +0.j          0.         +0.j\n",
      "   0.         +0.j          0.         +0.j\n",
      "   0.         +0.j          0.         +0.j\n",
      "   0.         +0.j          0.         +0.j        ]\n",
      " [ 0.         +0.j         14.36498974-33.65122263j\n",
      "   0.         +0.j          0.         +0.j\n",
      "   0.         +0.j          0.         +0.j\n",
      "   0.         +0.j          0.         +0.j\n",
      "   0.         +0.j          0.         +0.j\n",
      "   0.         +0.j          0.         +0.j        ]\n",
      " [ 0.         +0.j          0.         +0.j\n",
      "   2.53606589 -5.13945309j  0.         +0.j\n",
      "   0.         +0.j          0.         +0.j\n",
      "   0.         +0.j          0.         +0.j\n",
      "   0.         +0.j          0.         +0.j\n",
      "   0.         +0.j          0.         +0.j        ]\n",
      " [ 0.         +0.j          0.         +0.j\n",
      "   0.         +0.j          9.92806051-28.84996132j\n",
      "   0.         +0.j          0.         +0.j\n",
      "   0.         +0.j          0.         +0.j\n",
      "   0.         +0.j          0.         +0.j\n",
      "   0.         +0.j          0.         +0.j        ]\n",
      " [ 0.         +0.j          0.         +0.j\n",
      "   0.         +0.j          0.         +0.j\n",
      "  14.57010701-38.65857759j  0.         +0.j\n",
      "   0.         +0.j          0.         +0.j\n",
      "   0.         +0.j          0.         +0.j\n",
      "   0.         +0.j          0.         +0.j        ]\n",
      " [ 0.         +0.j          0.         +0.j\n",
      "   0.         +0.j          0.         +0.j\n",
      "   0.         +0.j          6.57992341-17.34073281j\n",
      "   0.         +0.j          0.         +0.j\n",
      "   0.         +0.j          0.         +0.j\n",
      "   0.         +0.j          0.         +0.j        ]\n",
      " [ 0.         +0.j          0.         +0.j\n",
      "   0.         +0.j          0.         +0.j\n",
      "   0.         +0.j          0.         +0.j\n",
      "   5.32605504-15.19242366j  0.         +0.j\n",
      "   0.         +0.j          0.         +0.j\n",
      "   0.         +0.j          0.         +0.j        ]\n",
      " [ 0.         +0.j          0.         +0.j\n",
      "   0.         +0.j          0.         +0.j\n",
      "   0.         +0.j          0.         +0.j\n",
      "   0.         +0.j          5.78293431-14.76833788j\n",
      "   0.         +0.j          0.         +0.j\n",
      "   0.         +0.j          0.         +0.j        ]\n",
      " [ 0.         +0.j          0.         +0.j\n",
      "   0.         +0.j          0.         +0.j\n",
      "   0.         +0.j          0.         +0.j\n",
      "   0.         +0.j          0.         +0.j\n",
      "   3.83591332 -8.49701809j  0.         +0.j\n",
      "   0.         +0.j          0.         +0.j        ]\n",
      " [ 0.         +0.j          0.         +0.j\n",
      "   0.         +0.j          0.         +0.j\n",
      "   0.         +0.j          0.         +0.j\n",
      "   0.         +0.j          0.         +0.j\n",
      "   0.         +0.j          4.01499203 -5.42793859j\n",
      "   0.         +0.j          0.         +0.j        ]\n",
      " [ 0.         +0.j          0.         +0.j\n",
      "   0.         +0.j          0.         +0.j\n",
      "   0.         +0.j          0.         +0.j\n",
      "   0.         +0.j          0.         +0.j\n",
      "   0.         +0.j          0.         +0.j\n",
      "   6.72494615-10.66969355j  0.         +0.j        ]\n",
      " [ 0.         +0.j          0.         +0.j\n",
      "   0.         +0.j          0.         +0.j\n",
      "   0.         +0.j          0.         +0.j\n",
      "   0.         +0.j          0.         +0.j\n",
      "   0.         +0.j          0.         +0.j\n",
      "   0.         +0.j          2.56099964 -5.34401393j]]\n"
     ]
    }
   ],
   "source": [
    "# Calculate total admittance of lines connected to each bus and store on the main diagonal\n",
    "for i in range(num_buses):\n",
    "    ## Debug code\n",
    "    print('iteration', i)\n",
    "    ## Select all lines connected to the current bus in question.\n",
    "    bus_lines = line_data[(line_data['From'] == i + 1) | (line_data['To'] == i + 1)]\n",
    "    print(bus_lines)\n",
    "    ## Sum all line admittances.\n",
    "    total_admittance = sum(1 / (line['Rtotal, p.u.'] + 1j * line['Xtotal, p.u.']) for _, line in bus_lines.iterrows())\n",
    "    Ybus[i, i] = total_admittance\n",
    "    \n",
    "## Test calculations\n",
    "print(Ybus)"
   ]
  },
  {
   "cell_type": "code",
   "execution_count": 9,
   "id": "e3f3fbe9-d1c0-4faa-9d3c-8113ac784ec2",
   "metadata": {
    "scrolled": true
   },
   "outputs": [
    {
     "name": "stdout",
     "output_type": "stream",
     "text": [
      "Admittance Matrix (Ybus):\n",
      "[[ 6.18345216-19.88473645j -4.9991316 +15.26308652j\n",
      "   0.         +0.j          0.         +0.j\n",
      "  -1.18432056 +4.62164993j  0.         +0.j\n",
      "   0.         +0.j          0.         +0.j\n",
      "   0.         +0.j          0.         +0.j\n",
      "   0.         +0.j          0.         +0.j        ]\n",
      " [-4.9991316 +15.26308652j 14.36498974-33.65122263j\n",
      "  -1.13501919 +4.78186315j -1.68603315 +5.11583833j\n",
      "  -6.54480579 +8.49043463j  0.         +0.j\n",
      "   0.         +0.j          0.         +0.j\n",
      "   0.         +0.j          0.         +0.j\n",
      "   0.         +0.j          0.         +0.j        ]\n",
      " [ 0.         +0.j         -1.13501919 +4.78186315j\n",
      "   2.53606589 -5.13945309j -1.4010467  +0.35758994j\n",
      "   0.         +0.j          0.         +0.j\n",
      "   0.         +0.j          0.         +0.j\n",
      "   0.         +0.j          0.         +0.j\n",
      "   0.         +0.j          0.         +0.j        ]\n",
      " [ 0.         +0.j         -1.68603315 +5.11583833j\n",
      "  -1.4010467  +0.35758994j  9.92806051-28.84996132j\n",
      "  -6.84098066+21.57855398j  0.         +0.j\n",
      "  -0.         +1.79797907j  0.         +0.j\n",
      "   0.         +0.j          0.         +0.j\n",
      "   0.         +0.j          0.         +0.j        ]\n",
      " [-1.18432056 +4.62164993j -6.54480579 +8.49043463j\n",
      "   0.         +0.j         -6.84098066+21.57855398j\n",
      "  14.57010701-38.65857759j -0.         +3.96793905j\n",
      "   0.         +0.j          0.         +0.j\n",
      "   0.         +0.j          0.         +0.j\n",
      "   0.         +0.j          0.         +0.j        ]\n",
      " [ 0.         +0.j          0.         +0.j\n",
      "   0.         +0.j          0.         +0.j\n",
      "  -0.         +3.96793905j  6.57992341-17.34073281j\n",
      "   0.         +0.j          0.         +0.j\n",
      "  -1.95502856 +4.09407434j -1.52596744 +3.17596397j\n",
      "  -3.0989274  +6.10275545j  0.         +0.j        ]\n",
      " [ 0.         +0.j          0.         +0.j\n",
      "   0.         +0.j         -0.         +1.79797907j\n",
      "   0.         +0.j          0.         +0.j\n",
      "   5.32605504-15.19242366j -3.90204955+10.36539413j\n",
      "   0.         +0.j          0.         +0.j\n",
      "   0.         +0.j         -1.42400549 +3.02905046j]\n",
      " [ 0.         +0.j          0.         +0.j\n",
      "   0.         +0.j          0.         +0.j\n",
      "   0.         +0.j          0.         +0.j\n",
      "  -3.90204955+10.36539413j  5.78293431-14.76833788j\n",
      "  -1.88088475 +4.40294375j  0.         +0.j\n",
      "   0.         +0.j          0.         +0.j        ]\n",
      " [ 0.         +0.j          0.         +0.j\n",
      "   0.         +0.j          0.         +0.j\n",
      "   0.         +0.j         -1.95502856 +4.09407434j\n",
      "   0.         +0.j         -1.88088475 +4.40294375j\n",
      "   3.83591332 -8.49701809j  0.         +0.j\n",
      "   0.         +0.j          0.         +0.j        ]\n",
      " [ 0.         +0.j          0.         +0.j\n",
      "   0.         +0.j          0.         +0.j\n",
      "   0.         +0.j         -1.52596744 +3.17596397j\n",
      "   0.         +0.j          0.         +0.j\n",
      "   0.         +0.j          4.01499203 -5.42793859j\n",
      "  -2.48902459 +2.25197463j  0.         +0.j        ]\n",
      " [ 0.         +0.j          0.         +0.j\n",
      "   0.         +0.j          0.         +0.j\n",
      "   0.         +0.j         -3.0989274  +6.10275545j\n",
      "   0.         +0.j          0.         +0.j\n",
      "   0.         +0.j         -2.48902459 +2.25197463j\n",
      "   6.72494615-10.66969355j -1.13699416 +2.31496348j]\n",
      " [ 0.         +0.j          0.         +0.j\n",
      "   0.         +0.j          0.         +0.j\n",
      "   0.         +0.j          0.         +0.j\n",
      "  -1.42400549 +3.02905046j  0.         +0.j\n",
      "   0.         +0.j          0.         +0.j\n",
      "  -1.13699416 +2.31496348j  2.56099964 -5.34401393j]]\n"
     ]
    }
   ],
   "source": [
    "# Calculate admittance between each pair of buses and fill the off-diagonal elements\n",
    "for _, line in line_data.iterrows():\n",
    "    from_bus = int(line['From']) - 1\n",
    "    to_bus = int(line['To']) - 1\n",
    "    \n",
    "    admittance = 1 / (line['Rtotal, p.u.'] + 1j * line['Xtotal, p.u.'])\n",
    "    \n",
    "    Ybus[from_bus, to_bus] = -admittance\n",
    "    Ybus[to_bus, from_bus] = -admittance  # Assuming symmetric matrix\n",
    "\n",
    "print(\"Admittance Matrix (Ybus):\")\n",
    "print(Ybus)"
   ]
  },
  {
   "cell_type": "markdown",
   "id": "019b9496-931c-489e-82a9-2d3604aa5f4a",
   "metadata": {},
   "source": [
    "Problem 3. Provide a block diagram that describes your anticipated code structure for\r\n",
    "accomplishing the Project’s requested functionality. You can use blocks to represent specific\r\n",
    "code modules that you plan on including. Be sure to indicate the flow of information between\r\n",
    "these different blocks, which should help you determine the inputs and outputs of each code\r\n",
    "module. As you know, the AC power flow problem and Newton-Raphson algorithm both\r\n",
    "contain many components, so having a singular block that reads “Solve Power Flow Problem”\r\n",
    "is coarser than what is of expected on you for this project. This is a good opportunity to think\r\n",
    "about how the different components of the power flow problem and the Newton-Raphson\r\n",
    "algorithm may be represented through modular code blocks. (35 points)"
   ]
  },
  {
   "cell_type": "code",
   "execution_count": null,
   "id": "b8d4ddb4-dc0f-44a1-ba63-fec686a83376",
   "metadata": {},
   "outputs": [],
   "source": []
  },
  {
   "cell_type": "markdown",
   "id": "f3dddfa4-b26c-4990-b2b1-8e8d2e78c938",
   "metadata": {},
   "source": [
    "Problem 4. Briefly discuss the contributions of each group member to this assignment. (5\n",
    "points)"
   ]
  },
  {
   "cell_type": "markdown",
   "id": "15bec1ca-44fb-4def-802a-33a46f63f1ed",
   "metadata": {},
   "source": [
    "Problem 1 code:  Zeyad and Kyle    \n",
    "Problem 2 code:  Zeyad   \n",
    "Problem 3 Diagram: Kyle and Zeyad  \n",
    "Code comments: Kyle and Zeyad "
   ]
  }
 ],
 "metadata": {
  "kernelspec": {
   "display_name": "Python 3 (ipykernel)",
   "language": "python",
   "name": "python3"
  },
  "language_info": {
   "codemirror_mode": {
    "name": "ipython",
    "version": 3
   },
   "file_extension": ".py",
   "mimetype": "text/x-python",
   "name": "python",
   "nbconvert_exporter": "python",
   "pygments_lexer": "ipython3",
   "version": "3.12.0"
  }
 },
 "nbformat": 4,
 "nbformat_minor": 5
}
